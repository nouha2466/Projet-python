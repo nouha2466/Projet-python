{
 "cells": [
  {
   "cell_type": "code",
   "execution_count": 3,
   "metadata": {
    "collapsed": false
   },
   "outputs": [
   ],
   "source": [
    "import math\n",
    "import numpy as np"
   ]
  },
  {
   "cell_type": "code",
   "execution_count": 4,
   "metadata": {
    "collapsed": false
   },
   "outputs": [
   ],
   "source": [
    "def pgcd(a, b):\n",
    "    \"\"\"\n",
    "    Calcule le PGCD (plus grand commun diviseur) de deux nombres.\n",
    "    \"\"\"\n",
    "    while b:\n",
    "        a, b = b, a % b\n",
    "    return a"
   ]
  },
  {
   "cell_type": "code",
   "execution_count": 5,
   "metadata": {
    "collapsed": false
   },
   "outputs": [
   ],
   "source": [
    "def orientation_points(p, q, r):\n",
    "    \"\"\"\n",
    "    dans le sens contraire des aiguilles d'une montre.\n",
    "    \"\"\"\n",
    "    \n",
    "    valeur = (q[0]-p[0])*(r[1]-p[1]) - (q[1]-p[1])*(r[0]-p[0])\n",
    "    if valeur == 0:\n",
    "        return 0\n",
    "    elif valeur > 0:\n",
    "        return 1\n",
    "    else:\n",
    "        return -1"
   ]
  },
  {
   "cell_type": "code",
   "execution_count": 6,
   "metadata": {
    "collapsed": false
   },
   "outputs": [
   ],
   "source": [
    "def nombre_points_sur_segment(pi, pj):\n",
    "    \"\"\"\n",
    "    Calcule le nombre de points entiers sur un segment défini par les points pi et pj.\n",
    "    \"\"\"\n",
    "    delta_x = abs(pi[0] - pj[0])\n",
    "    delta_y = abs(pi[1] - pj[1])\n",
    "    return pgcd(delta_x, delta_y) + 1"
   ]
  },
  {
   "cell_type": "code",
   "execution_count": 7,
   "metadata": {
    "collapsed": false
   },
   "outputs": [
   ],
   "source": [
    "def aire_polygone_convexe(points):\n",
    "    \"\"\"\n",
    "    Calcule l'aire d'un polygone à sommets entiers en utilisant la formule de Pick.\n",
    "    \"\"\"\n",
    "    n = len(points)\n",
    "    if n < 3:\n",
    "        return 0  # Un polygone avec moins de 3 sommets n'a pas d'aire\n",
    "\n",
    "    aire = 0\n",
    "    for i in range(n):\n",
    "        j = (i + 1) % n\n",
    "        aire += points[i][0] * points[j][1] - points[j][0] * points[i][1]\n",
    "\n",
    "    aire = abs(aire) / 2\n",
    "    return aire\n"
   ]
  },
  {
   "cell_type": "code",
   "execution_count": 8,
   "metadata": {
    "collapsed": false
   },
   "outputs": [
   ],
   "source": [
    "def algo_Graham(points):\n",
    "    #Algorithme de Graham pour calculer l'enveloppe convexe.\n",
    "    \n",
    "    n = len(points)\n",
    "    if n < 3:\n",
    "        return points\n",
    "\n",
    "    # Trouver le point le plus en bas et à gauche (p0)\n",
    "    p0 = min(points, key=lambda point: (point[1], point[0]))\n",
    "\n",
    "    # Trier les points par angle polaire par rapport à p0\n",
    "    sorted_points = sorted(points, key=lambda point: (math.atan2(point[1] - p0[1], point[0] - p0[0]), point))\n",
    "\n",
    "    # Initialiser la pile\n",
    "    pile = [p0, sorted_points[0], sorted_points[1]]\n",
    "\n",
    "    # Parcourir les points triés\n",
    "    for i in range(2, n):\n",
    "        while len(pile) > 1 and orientation_points(pile[-2], pile[-1], sorted_points[i]) != -1:\n",
    "            pile.pop()\n",
    "        pile.append(sorted_points[i])\n",
    "\n",
    "    return pile"
   ]
  },
  {
   "cell_type": "code",
   "execution_count": 11,
   "metadata": {
    "collapsed": false
   },
   "outputs": [
   ],
   "source": [
    "def est_convexe(points):\n",
    "    \"\"\"\n",
    "    Vérifie si un objet est convexe en utilisant la formule de Pick.\n",
    "    \"\"\"\n",
    "    enveloppe_convexe = algo_Graham(points)\n",
    "    \n",
    "    # Calcul du nombre de points entiers dans le polygone de l'enveloppe convexe\n",
    "    points_entiers_enveloppe = int(aire_polygone_convexe(enveloppe_convexe) - len(enveloppe_convexe) / 2 + 1)\n",
    "    print(points_entiers_enveloppe)\n",
    "    \n",
    "    # Calcul du nombre de points entiers dans l'objet\n",
    "    points_entiers_objet = int(aire_polygone_convexe(points) - len(points) / 2 + 1)\n",
    "    print(points_entiers_enveloppe)\n",
    "    \n",
    "    return math.isclose(points_entiers_enveloppe, points_entiers_objet)"
   ]
  },
  {
   "cell_type": "code",
   "execution_count": 12,
   "metadata": {
    "collapsed": false
   },
   "outputs": [
    {
     "name": "stdout",
     "output_type": "stream",
     "text": [
      "0\n",
      "0\n",
      "L'objet est convexe : True\n"
     ]
    }
   ],
   "source": [
    "# Exemple d'utilisation\n",
    "points_objet = [(0, 0), (1, 1), (2, 2), (0, 2), (1, -1)]\n",
    "resultat_convexite = est_convexe(points_objet)\n",
    "print(\"L'objet est convexe :\", resultat_convexite)"
   ]
  },
  {
   "cell_type": "code",
   "execution_count": 0,
   "metadata": {
    "collapsed": false
   },
   "outputs": [
   ],
   "source": [
   ]
  },
  {
   "cell_type": "code",
   "execution_count": 0,
   "metadata": {
    "collapsed": false
   },
   "outputs": [
   ],
   "source": [
   ]
  }
 ],
 "metadata": {
  "kernelspec": {
   "argv": [
    "sage-10.1",
    "--python",
    "-m",
    "sage.repl.ipython_kernel",
    "--matplotlib=inline",
    "-f",
    "{connection_file}"
   ],
   "display_name": "SageMath 10.1",
   "env": {
   },
   "language": "sagemath",
   "metadata": {
    "cocalc": {
     "description": "Open-source mathematical software system",
     "priority": 10,
     "url": "https://www.sagemath.org/"
    }
   },
   "name": "sage-10.1",
   "resource_dir": "/ext/jupyter/kernels/sage-10.1"
  }
 },
 "nbformat": 4,
 "nbformat_minor": 4
}